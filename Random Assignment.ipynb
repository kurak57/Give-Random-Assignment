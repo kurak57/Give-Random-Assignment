{
 "cells": [
  {
   "cell_type": "code",
   "execution_count": 1,
   "id": "4aeab31b",
   "metadata": {},
   "outputs": [],
   "source": [
    "import random"
   ]
  },
  {
   "cell_type": "code",
   "execution_count": 2,
   "id": "65d9d09c",
   "metadata": {},
   "outputs": [],
   "source": [
    "names = ['Tomi', 'Agus', 'Dias', 'Lola', 'Fio', 'Yazid']\n",
    "topics = [\n",
    "    \"Scope of Basic SQL\",\n",
    "    \"PostgreSQL dan BeekepStudio\",\n",
    "    \"Data Definition Language\",\n",
    "    \"Data Manipulation Language\",\n",
    "    \"Data Control Language\",\n",
    "    \"Select Distinct\",\n",
    "    \"Where\",\n",
    "    \"String Function\",\n",
    "    \"Aggregate Function\",\n",
    "    \"Join\",\n",
    "    \"Audit\"\n",
    "]\n"
   ]
  },
  {
   "cell_type": "code",
   "execution_count": 27,
   "id": "d9969434",
   "metadata": {},
   "outputs": [],
   "source": [
    "random.shuffle(names)\n",
    "random.shuffle(topics)"
   ]
  },
  {
   "cell_type": "code",
   "execution_count": 18,
   "id": "3f7fc41e",
   "metadata": {},
   "outputs": [
    {
     "data": {
      "text/plain": [
       "1"
      ]
     },
     "execution_count": 18,
     "metadata": {},
     "output_type": "execute_result"
    }
   ],
   "source": [
    "topics_per_person = len(topics)//len(names)\n",
    "rest_topics = len(topics)%len(names)"
   ]
  },
  {
   "cell_type": "code",
   "execution_count": 28,
   "id": "5303e8f8",
   "metadata": {},
   "outputs": [
    {
     "name": "stdout",
     "output_type": "stream",
     "text": [
      "Agus akan mengerjakan Select Distinct,Scope of Basic SQL\n",
      "Dias akan mengerjakan PostgreSQL dan BeekepStudio,Aggregate Function\n",
      "Tomi akan mengerjakan Data Control Language,Join\n",
      "Fio akan mengerjakan String Function,Where\n",
      "Yazid akan mengerjakan Audit,Data Manipulation Language\n",
      "Lola akan mengerjakan Data Definition Language\n"
     ]
    }
   ],
   "source": [
    "assingment = []\n",
    "start = 0\n",
    "for i, name in enumerate(names):\n",
    "    sum_topics = topics_per_person + (1 if i < rest_topics else 0)\n",
    "    individual_topics = topics[start:start+sum_topics]\n",
    "    assingment.append({\n",
    "        \"nama\": name,\n",
    "        \"topik\": individual_topics\n",
    "    })\n",
    "    start += sum_topics\n",
    "    \n",
    "for item in assingment:\n",
    "    nama = item['nama']\n",
    "    topik = \",\".join(item['topik'])\n",
    "    \n",
    "    print(f\"{nama} akan mengerjakan {topik}\")\n",
    "    "
   ]
  },
  {
   "cell_type": "code",
   "execution_count": null,
   "id": "b329905d",
   "metadata": {},
   "outputs": [],
   "source": []
  },
  {
   "cell_type": "code",
   "execution_count": null,
   "id": "1545dc3b",
   "metadata": {},
   "outputs": [],
   "source": []
  }
 ],
 "metadata": {
  "kernelspec": {
   "display_name": "Python 3 (ipykernel)",
   "language": "python",
   "name": "python3"
  },
  "language_info": {
   "codemirror_mode": {
    "name": "ipython",
    "version": 3
   },
   "file_extension": ".py",
   "mimetype": "text/x-python",
   "name": "python",
   "nbconvert_exporter": "python",
   "pygments_lexer": "ipython3",
   "version": "3.11.5"
  }
 },
 "nbformat": 4,
 "nbformat_minor": 5
}
